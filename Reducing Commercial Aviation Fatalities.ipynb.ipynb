{
 "cells": [
  {
   "cell_type": "code",
   "execution_count": 28,
   "metadata": {},
   "outputs": [],
   "source": [
    "import warnings\n",
    "import pandas as pd\n",
    "import numpy as np\n",
    "\n",
    "\n",
    "%matplotlib inline\n",
    "pd.options.mode.chained_assignment = None"
   ]
  },
  {
   "cell_type": "code",
   "execution_count": 2,
   "metadata": {},
   "outputs": [
    {
     "data": {
      "text/html": [
       "<div>\n",
       "<style scoped>\n",
       "    .dataframe tbody tr th:only-of-type {\n",
       "        vertical-align: middle;\n",
       "    }\n",
       "\n",
       "    .dataframe tbody tr th {\n",
       "        vertical-align: top;\n",
       "    }\n",
       "\n",
       "    .dataframe thead th {\n",
       "        text-align: right;\n",
       "    }\n",
       "</style>\n",
       "<table border=\"1\" class=\"dataframe\">\n",
       "  <thead>\n",
       "    <tr style=\"text-align: right;\">\n",
       "      <th></th>\n",
       "      <th>crew</th>\n",
       "      <th>experiment</th>\n",
       "      <th>time</th>\n",
       "      <th>seat</th>\n",
       "      <th>eeg_fp1</th>\n",
       "      <th>eeg_f7</th>\n",
       "      <th>eeg_f8</th>\n",
       "      <th>eeg_t4</th>\n",
       "      <th>eeg_t6</th>\n",
       "      <th>eeg_t5</th>\n",
       "      <th>...</th>\n",
       "      <th>eeg_c4</th>\n",
       "      <th>eeg_p4</th>\n",
       "      <th>eeg_poz</th>\n",
       "      <th>eeg_c3</th>\n",
       "      <th>eeg_cz</th>\n",
       "      <th>eeg_o2</th>\n",
       "      <th>ecg</th>\n",
       "      <th>r</th>\n",
       "      <th>gsr</th>\n",
       "      <th>event</th>\n",
       "    </tr>\n",
       "  </thead>\n",
       "  <tbody>\n",
       "    <tr>\n",
       "      <th>0</th>\n",
       "      <td>1</td>\n",
       "      <td>CA</td>\n",
       "      <td>0.011719</td>\n",
       "      <td>1</td>\n",
       "      <td>-5.28545</td>\n",
       "      <td>26.775801</td>\n",
       "      <td>-9.527310</td>\n",
       "      <td>-12.793200</td>\n",
       "      <td>16.717800</td>\n",
       "      <td>33.737499</td>\n",
       "      <td>...</td>\n",
       "      <td>37.368999</td>\n",
       "      <td>17.437599</td>\n",
       "      <td>19.201900</td>\n",
       "      <td>20.5968</td>\n",
       "      <td>-3.95115</td>\n",
       "      <td>14.507600</td>\n",
       "      <td>-4520.0</td>\n",
       "      <td>817.705994</td>\n",
       "      <td>388.829987</td>\n",
       "      <td>A</td>\n",
       "    </tr>\n",
       "    <tr>\n",
       "      <th>1</th>\n",
       "      <td>1</td>\n",
       "      <td>CA</td>\n",
       "      <td>0.015625</td>\n",
       "      <td>1</td>\n",
       "      <td>-2.42842</td>\n",
       "      <td>28.430901</td>\n",
       "      <td>-9.323510</td>\n",
       "      <td>-3.757230</td>\n",
       "      <td>15.969300</td>\n",
       "      <td>30.443600</td>\n",
       "      <td>...</td>\n",
       "      <td>31.170799</td>\n",
       "      <td>19.399700</td>\n",
       "      <td>19.689501</td>\n",
       "      <td>21.3547</td>\n",
       "      <td>1.33212</td>\n",
       "      <td>17.750200</td>\n",
       "      <td>-4520.0</td>\n",
       "      <td>817.705994</td>\n",
       "      <td>388.829987</td>\n",
       "      <td>A</td>\n",
       "    </tr>\n",
       "    <tr>\n",
       "      <th>2</th>\n",
       "      <td>1</td>\n",
       "      <td>CA</td>\n",
       "      <td>0.019531</td>\n",
       "      <td>1</td>\n",
       "      <td>10.67150</td>\n",
       "      <td>30.420200</td>\n",
       "      <td>15.350700</td>\n",
       "      <td>24.724001</td>\n",
       "      <td>16.143101</td>\n",
       "      <td>32.142799</td>\n",
       "      <td>...</td>\n",
       "      <td>-12.012600</td>\n",
       "      <td>19.396299</td>\n",
       "      <td>23.171700</td>\n",
       "      <td>22.4076</td>\n",
       "      <td>1.53786</td>\n",
       "      <td>22.247000</td>\n",
       "      <td>-4520.0</td>\n",
       "      <td>817.705994</td>\n",
       "      <td>388.829987</td>\n",
       "      <td>A</td>\n",
       "    </tr>\n",
       "    <tr>\n",
       "      <th>3</th>\n",
       "      <td>1</td>\n",
       "      <td>CA</td>\n",
       "      <td>0.023438</td>\n",
       "      <td>1</td>\n",
       "      <td>11.45250</td>\n",
       "      <td>25.609800</td>\n",
       "      <td>2.433080</td>\n",
       "      <td>12.412500</td>\n",
       "      <td>20.533300</td>\n",
       "      <td>31.494101</td>\n",
       "      <td>...</td>\n",
       "      <td>18.574100</td>\n",
       "      <td>23.156401</td>\n",
       "      <td>22.641199</td>\n",
       "      <td>19.3367</td>\n",
       "      <td>2.54492</td>\n",
       "      <td>18.998600</td>\n",
       "      <td>-4520.0</td>\n",
       "      <td>817.705994</td>\n",
       "      <td>388.829987</td>\n",
       "      <td>A</td>\n",
       "    </tr>\n",
       "    <tr>\n",
       "      <th>4</th>\n",
       "      <td>1</td>\n",
       "      <td>CA</td>\n",
       "      <td>0.027344</td>\n",
       "      <td>1</td>\n",
       "      <td>7.28321</td>\n",
       "      <td>25.942600</td>\n",
       "      <td>0.113564</td>\n",
       "      <td>5.748000</td>\n",
       "      <td>19.833599</td>\n",
       "      <td>28.753599</td>\n",
       "      <td>...</td>\n",
       "      <td>6.555440</td>\n",
       "      <td>22.754700</td>\n",
       "      <td>22.670300</td>\n",
       "      <td>20.2932</td>\n",
       "      <td>1.69962</td>\n",
       "      <td>22.812799</td>\n",
       "      <td>-4520.0</td>\n",
       "      <td>817.705994</td>\n",
       "      <td>388.829987</td>\n",
       "      <td>A</td>\n",
       "    </tr>\n",
       "  </tbody>\n",
       "</table>\n",
       "<p>5 rows × 28 columns</p>\n",
       "</div>"
      ],
      "text/plain": [
       "   crew experiment      time  seat   eeg_fp1     eeg_f7     eeg_f8     eeg_t4  \\\n",
       "0     1         CA  0.011719     1  -5.28545  26.775801  -9.527310 -12.793200   \n",
       "1     1         CA  0.015625     1  -2.42842  28.430901  -9.323510  -3.757230   \n",
       "2     1         CA  0.019531     1  10.67150  30.420200  15.350700  24.724001   \n",
       "3     1         CA  0.023438     1  11.45250  25.609800   2.433080  12.412500   \n",
       "4     1         CA  0.027344     1   7.28321  25.942600   0.113564   5.748000   \n",
       "\n",
       "      eeg_t6     eeg_t5  ...       eeg_c4     eeg_p4    eeg_poz   eeg_c3  \\\n",
       "0  16.717800  33.737499  ...    37.368999  17.437599  19.201900  20.5968   \n",
       "1  15.969300  30.443600  ...    31.170799  19.399700  19.689501  21.3547   \n",
       "2  16.143101  32.142799  ...   -12.012600  19.396299  23.171700  22.4076   \n",
       "3  20.533300  31.494101  ...    18.574100  23.156401  22.641199  19.3367   \n",
       "4  19.833599  28.753599  ...     6.555440  22.754700  22.670300  20.2932   \n",
       "\n",
       "    eeg_cz     eeg_o2     ecg           r         gsr  event  \n",
       "0 -3.95115  14.507600 -4520.0  817.705994  388.829987      A  \n",
       "1  1.33212  17.750200 -4520.0  817.705994  388.829987      A  \n",
       "2  1.53786  22.247000 -4520.0  817.705994  388.829987      A  \n",
       "3  2.54492  18.998600 -4520.0  817.705994  388.829987      A  \n",
       "4  1.69962  22.812799 -4520.0  817.705994  388.829987      A  \n",
       "\n",
       "[5 rows x 28 columns]"
      ]
     },
     "execution_count": 2,
     "metadata": {},
     "output_type": "execute_result"
    }
   ],
   "source": [
    "train = pd.read_csv(\"train.csv\") \n",
    "test = pd.read_csv(\"test.csv\") \n",
    "train.head(5)"
   ]
  },
  {
   "cell_type": "code",
   "execution_count": 3,
   "metadata": {},
   "outputs": [],
   "source": [
    "#print(train[\"event\"])"
   ]
  },
  {
   "cell_type": "code",
   "execution_count": 4,
   "metadata": {},
   "outputs": [
    {
     "name": "stdout",
     "output_type": "stream",
     "text": [
      "Training on 3893936 samples.\n"
     ]
    }
   ],
   "source": [
    "from sklearn.model_selection import train_test_split #分訓練及測試\n",
    "\n",
    "train, val_df = train_test_split(train, test_size=0.2, random_state=420)\n",
    "print(f\"Training on {train.shape[0]} samples.\")"
   ]
  },
  {
   "cell_type": "code",
   "execution_count": 5,
   "metadata": {},
   "outputs": [],
   "source": [
    "train.loc[train['event']==\"A\",'event']=0\n",
    "train.loc[train['event']==\"B\",'event']=1\n",
    "train.loc[train['event']==\"C\",'event']=2\n",
    "train.loc[train['event']==\"D\",'event']=3"
   ]
  },
  {
   "cell_type": "code",
   "execution_count": 6,
   "metadata": {},
   "outputs": [],
   "source": [
    "#print(train[\"event\"])"
   ]
  },
  {
   "cell_type": "code",
   "execution_count": 7,
   "metadata": {},
   "outputs": [],
   "source": [
    "val_df.loc[val_df['event']==\"A\",'event']=0\n",
    "val_df.loc[val_df['event']==\"B\",'event']=1\n",
    "val_df.loc[val_df['event']==\"C\",'event']=2\n",
    "val_df.loc[val_df['event']==\"D\",'event']=3"
   ]
  },
  {
   "cell_type": "code",
   "execution_count": 8,
   "metadata": {},
   "outputs": [],
   "source": [
    "#print(val_df[\"event\"])"
   ]
  },
  {
   "cell_type": "code",
   "execution_count": null,
   "metadata": {},
   "outputs": [],
   "source": []
  },
  {
   "cell_type": "code",
   "execution_count": null,
   "metadata": {},
   "outputs": [],
   "source": []
  },
  {
   "cell_type": "code",
   "execution_count": 9,
   "metadata": {},
   "outputs": [
    {
     "name": "stdout",
     "output_type": "stream",
     "text": [
      "Training until validation scores don't improve for 50 rounds.\n",
      "[100]\tvalid_0's multi_error: 0.0882366\n",
      "[200]\tvalid_0's multi_error: 0.076034\n",
      "[300]\tvalid_0's multi_error: 0.0708937\n",
      "[400]\tvalid_0's multi_error: 0.0677935\n",
      "[500]\tvalid_0's multi_error: 0.065245\n",
      "[600]\tvalid_0's multi_error: 0.0631042\n",
      "[700]\tvalid_0's multi_error: 0.0616661\n",
      "[800]\tvalid_0's multi_error: 0.0604848\n",
      "[900]\tvalid_0's multi_error: 0.0595859\n",
      "[1000]\tvalid_0's multi_error: 0.0587867\n",
      "Did not meet early stopping. Best iteration is:\n",
      "[1000]\tvalid_0's multi_error: 0.0587867\n"
     ]
    }
   ],
   "source": [
    "import lightgbm as lgb\n",
    "\n",
    "features = [\"crew\", \"seat\",\"ecg\",\"r\",\"gsr\"]\n",
    "      \n",
    "def run_lgb (train, val_df):\n",
    "\n",
    "    \n",
    "    params = {\"objective\" : \"multiclass\",\n",
    "              \"num_class\": 4,\n",
    "              \"metric\" : \"multi_error\",\n",
    "              \"num_leaves\" : 30,\n",
    "              \"min_child_weight\" : 50,\n",
    "              \"learning_rate\" : 0.1,\n",
    "              \"bagging_fraction\" : 0.7,\n",
    "              \"feature_fraction\" : 0.7,\n",
    "              \"bagging_seed\" : 420,\n",
    "              \"verbosity\" : -1\n",
    "             }\n",
    "\n",
    "    lg_train = lgb.Dataset(train[features], label=(train[\"event\"]))   \n",
    "   \n",
    "    lg_test = lgb.Dataset(val_df[features], label=(val_df[\"event\"]))\n",
    "    \n",
    "    model = lgb.train(params, lg_train, 1000, valid_sets=[lg_test], early_stopping_rounds=50, verbose_eval=100)\n",
    "    \n",
    "    return model\n",
    "\n",
    "#print(train[\"event\"])\n",
    "\n",
    "model = run_lgb(train, val_df)"
   ]
  },
  {
   "cell_type": "code",
   "execution_count": null,
   "metadata": {},
   "outputs": [],
   "source": []
  },
  {
   "cell_type": "code",
   "execution_count": 33,
   "metadata": {},
   "outputs": [
    {
     "data": {
      "image/png": "[encoded data removed]",
      "text/plain": [
       "<Figure size 864x720 with 1 Axes>"
      ]
     },
     "metadata": {
      "needs_background": "light"
     },
     "output_type": "display_data"
    }
   ],
   "source": [
    "#看特徵重要重度\n",
    "fig, ax = plt.subplots(figsize=(12,10))\n",
    "lgb.plot_importance(model, height=0.8, ax=ax)\n",
    "ax.grid(False)\n",
    "plt.ylabel('Feature', size=12)\n",
    "plt.xlabel('Importance', size=12)\n",
    "plt.title(\"Importance of the Features of our LightGBM Model\", fontsize=15)\n",
    "plt.show()"
   ]
  },
  {
   "cell_type": "code",
   "execution_count": null,
   "metadata": {},
   "outputs": [],
   "source": []
  },
  {
   "cell_type": "code",
   "execution_count": 48,
   "metadata": {},
   "outputs": [
    {
     "data": {
      "text/plain": [
       "(<Figure size 432x288 with 1 Axes>,\n",
       " <matplotlib.axes._subplots.AxesSubplot at 0x2cc8291b160>)"
      ]
     },
     "execution_count": 48,
     "metadata": {},
     "output_type": "execute_result"
    },
    {
     "data": {
      "image/png": "[encoded data removed]",
      "text/plain": [
       "<Figure size 432x288 with 1 Axes>"
      ]
     },
     "metadata": {
      "needs_background": "light"
     },
     "output_type": "display_data"
    }
   ],
   "source": [
    "from sklearn.metrics import confusion_matrix\n",
    "\n",
    "pred_val = model.predict(val_df[features], num_iteration=model.best_iteration)\n",
    "\n",
    "from mlxtend.plotting import plot_confusion_matrix\n",
    "\n",
    "conf_mat_val = confusion_matrix(np.argmax(pred_val, axis=1), val_df[\"event\"].values)\n",
    "plot_confusion_matrix(conf_mat_val, [\"0\", \"1\", \"2\", \"3\"])"
   ]
  },
  {
   "cell_type": "code",
   "execution_count": null,
   "metadata": {},
   "outputs": [],
   "source": []
  },
  {
   "cell_type": "code",
   "execution_count": 34,
   "metadata": {},
   "outputs": [],
   "source": [
    "pred_test = model.predict(test[features], num_iteration=model.best_iteration)    #預測"
   ]
  },
  {
   "cell_type": "code",
   "execution_count": null,
   "metadata": {},
   "outputs": [],
   "source": []
  },
  {
   "cell_type": "code",
   "execution_count": null,
   "metadata": {},
   "outputs": [],
   "source": []
  },
  {
   "cell_type": "code",
   "execution_count": null,
   "metadata": {},
   "outputs": [],
   "source": [
    "#輸出檔案\n",
    "submission = pd.DataFrame(np.concatenate((np.arange(len(test))[:, np.newaxis], pred_test), axis=1), columns=['id', 'A', 'B', 'C', 'D'])\n",
    "submission['id'] = submission['id'].astype(int)"
   ]
  },
  {
   "cell_type": "code",
   "execution_count": null,
   "metadata": {},
   "outputs": [],
   "source": [
    "submission.head()"
   ]
  },
  {
   "cell_type": "code",
   "execution_count": null,
   "metadata": {},
   "outputs": [],
   "source": [
    "submission.to_csv(\"R_submission.csv\", index=False)"
   ]
  },
  {
   "cell_type": "code",
   "execution_count": null,
   "metadata": {},
   "outputs": [],
   "source": []
  }
 ],
 "metadata": {
  "kernelspec": {
   "display_name": "Python 3",
   "language": "python",
   "name": "python3"
  },
  "language_info": {
   "codemirror_mode": {
    "name": "ipython",
    "version": 3
   },
   "file_extension": ".py",
   "mimetype": "text/x-python",
   "name": "python",
   "nbconvert_exporter": "python",
   "pygments_lexer": "ipython3",
   "version": "3.7.0"
  }
 },
 "nbformat": 4,
 "nbformat_minor": 2
}
